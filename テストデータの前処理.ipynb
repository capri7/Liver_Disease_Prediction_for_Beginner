{
 "cells": [
  {
   "cell_type": "markdown",
   "id": "e110bd71-090a-45e7-a40d-74dd779b73ae",
   "metadata": {},
   "source": [
    "## データ型を確認する"
   ]
  },
  {
   "cell_type": "code",
   "execution_count": 10,
   "id": "30705edf-54b2-43e4-b9f4-e0490c0905ff",
   "metadata": {},
   "outputs": [
    {
     "name": "stdout",
     "output_type": "stream",
     "text": [
      "Data types of each column:\n",
      " Age           int64\n",
      "Gender       object\n",
      "T_Bil       float64\n",
      "D_Bil       float64\n",
      "ALP         float64\n",
      "ALT_GPT     float64\n",
      "AST_GOT     float64\n",
      "TP          float64\n",
      "Alb         float64\n",
      "AG_ratio    float64\n",
      "dtype: object\n",
      "<class 'pandas.core.frame.DataFrame'>\n",
      "RangeIndex: 350 entries, 0 to 349\n",
      "Data columns (total 10 columns):\n",
      " #   Column    Non-Null Count  Dtype  \n",
      "---  ------    --------------  -----  \n",
      " 0   Age       350 non-null    int64  \n",
      " 1   Gender    350 non-null    object \n",
      " 2   T_Bil     350 non-null    float64\n",
      " 3   D_Bil     350 non-null    float64\n",
      " 4   ALP       350 non-null    float64\n",
      " 5   ALT_GPT   350 non-null    float64\n",
      " 6   AST_GOT   350 non-null    float64\n",
      " 7   TP        350 non-null    float64\n",
      " 8   Alb       350 non-null    float64\n",
      " 9   AG_ratio  350 non-null    float64\n",
      "dtypes: float64(8), int64(1), object(1)\n",
      "memory usage: 27.5+ KB\n",
      "None\n"
     ]
    }
   ],
   "source": [
    "import pandas as pd\n",
    "import numpy as np\n",
    "\n",
    "# トレインデータの読み込み\n",
    "data_path = '/Users/hayakawakazue/Downloads/signate/LiverDiseaseDetection/test/test.csv'\n",
    "test_data = pd.read_csv(data_path, low_memory=False)\n",
    "\n",
    "# データ型の確認\n",
    "print(\"Data types of each column:\\n\", test_data.dtypes)\n",
    "\n",
    "print(test_data.info())"
   ]
  },
  {
   "cell_type": "markdown",
   "id": "92463cd7-4d3f-43d0-9dd2-07928519c1c7",
   "metadata": {},
   "source": [
    "### 特徴量の分布を確認して対数変換を適用する"
   ]
  },
  {
   "cell_type": "code",
   "execution_count": 39,
   "id": "a0fab656-4b8c-44a8-992c-7d2b96ea57a9",
   "metadata": {},
   "outputs": [
    {
     "name": "stdout",
     "output_type": "stream",
     "text": [
      "対数変換後のデータが /Users/hayakawakazue/Downloads/signate/LiverDiseaseDetection/test/test_log.csv に保存されました。\n"
     ]
    }
   ],
   "source": [
    "import numpy as np\n",
    "import pandas as pd\n",
    "\n",
    "# データファイルを読み込み\n",
    "data_path = '/Users/hayakawakazue/Downloads/signate/LiverDiseaseDetection/test/test.csv'\n",
    "test_data = pd.read_csv(data_path, low_memory=False)\n",
    "\n",
    "# トレーニングデータと同様に対数変換を適用\n",
    "test_data['T_Bil_log'] = np.log1p(test_data['T_Bil'])\n",
    "test_data['D_Bil_log'] = np.log1p(test_data['D_Bil'])\n",
    "test_data['ALP_log'] = np.log1p(test_data['ALP'])\n",
    "test_data['ALT_GPT_log'] = np.log1p(test_data['ALT_GPT'])\n",
    "test_data['AST_GOT_log'] = np.log1p(test_data['AST_GOT'])\n",
    "\n",
    "# 0以下の値がないことが確認されている場合np.logを適用する\n",
    "test_data['TP_log'] = np.log(test_data['TP'])\n",
    "test_data['Alb_log'] = np.log(test_data['Alb'])\n",
    "test_data['AG_ratio_log'] = np.log(test_data['AG_ratio'])\n",
    "\n",
    "# データをファイルに保存\n",
    "save_path = '/Users/hayakawakazue/Downloads/signate/LiverDiseaseDetection/test/test_log.csv'\n",
    "test_data.to_csv(save_path, index=False)\n",
    "print(f\"対数変換後のデータが {save_path} に保存されました。\")"
   ]
  },
  {
   "cell_type": "markdown",
   "id": "0b30c0de-83ac-40ff-8ef4-5994666bf057",
   "metadata": {},
   "source": [
    "### 対数変換前の特徴量を削除する"
   ]
  },
  {
   "cell_type": "code",
   "execution_count": 40,
   "id": "d60bd8f1-2189-47c9-adcd-a97df93ffe6a",
   "metadata": {},
   "outputs": [
    {
     "name": "stdout",
     "output_type": "stream",
     "text": [
      "Age               int64\n",
      "Gender           object\n",
      "T_Bil_log       float64\n",
      "D_Bil_log       float64\n",
      "ALP_log         float64\n",
      "ALT_GPT_log     float64\n",
      "AST_GOT_log     float64\n",
      "TP_log          float64\n",
      "Alb_log         float64\n",
      "AG_ratio_log    float64\n",
      "dtype: object\n",
      "データが /Users/hayakawakazue/Downloads/signate/LiverDiseaseDetection/test/test_drop_original.csv に保存されました。\n"
     ]
    }
   ],
   "source": [
    "import pandas as pd\n",
    "\n",
    "# トレインデータの読み込み\n",
    "data_path = '/Users/hayakawakazue/Downloads/signate/LiverDiseaseDetection/test/test_log.csv'\n",
    "test_data = pd.read_csv(data_path, low_memory=False)\n",
    "\n",
    "# '不要な列を削除して他の特徴量を残す\n",
    "test_data = test_data.drop(columns=['T_Bil', 'D_Bil', 'ALP', 'ALT_GPT', 'AST_GOT',\n",
    "                                      'TP', 'Alb', 'AG_ratio'])\n",
    "\n",
    "# 新しいデータセットの保存\n",
    "save_path = '/Users/hayakawakazue/Downloads/signate/LiverDiseaseDetection/test/test_drop_original.csv'\n",
    "test_data.to_csv(save_path, index=False)\n",
    "\n",
    "print(test_data.dtypes)\n",
    "print(f\"データが {save_path} に保存されました。\")"
   ]
  },
  {
   "cell_type": "markdown",
   "id": "9f963942-5772-424f-ae2f-b0c0b6911db8",
   "metadata": {},
   "source": [
    "## 新しい特徴量を作成する\n",
    "トレーニングデータで作成した特徴量と同じ特徴量を作成します。"
   ]
  },
  {
   "cell_type": "code",
   "execution_count": 1,
   "id": "ac7157be-20d6-4b16-8a02-28b526fe1ad3",
   "metadata": {},
   "outputs": [
    {
     "name": "stdout",
     "output_type": "stream",
     "text": [
      "新しい特徴量を作成しデータを保存しました: /Users/hayakawakazue/Downloads/signate/LiverDiseaseDetection/test/test_new_features.csv\n"
     ]
    }
   ],
   "source": [
    "import numpy as np\n",
    "import pandas as pd\n",
    "import os\n",
    "\n",
    "# データファイルを読み込み\n",
    "data_path = '/Users/hayakawakazue/Downloads/signate/LiverDiseaseDetection/test/test_drop_original.csv'\n",
    "test_data = pd.read_csv(data_path, low_memory=False)\n",
    "\n",
    "\n",
    "# 年齢をカテゴリに分ける\n",
    "# test_data['Age_bucket'] = pd.cut(test_data['Age'], bins=[0, 20, 40, 60, 80, 100], labels=[1, 2, 3, 4, 5])\n",
    "\n",
    "# 新しい特徴量を作成する\n",
    "# グロブリンを計算\n",
    "# test_data['Globulin'] = test_data['TP_log'] - test_data['Alb_log']\n",
    "\n",
    "# 仮定的な肝機能スコア\n",
    "# test_data['Liver_Function_Combined_Score'] = (\n",
    "    # test_data['AST_GOT_log'] + \n",
    "    # test_data['T_Bil_log'] - \n",
    "    # test_data['Alb_log']\n",
    "# )\n",
    "\n",
    "# 比を作成する場合\n",
    "test_data['TP_Alb_ratio'] = test_data['TP_log'] / (test_data['Alb_log'] + 1e-8)  # 0除算を避けるために微小値を加える\n",
    "\n",
    "# ディレクトリが存在するか確認し、存在しない場合は作成\n",
    "save_dir = '/Users/hayakawakazue/Downloads/signate/LiverDiseaseDetection/test'\n",
    "if not os.path.exists(save_dir):\n",
    "    os.makedirs(save_dir)\n",
    "\n",
    "# データを保存\n",
    "test_data_path = os.path.join(save_dir, 'test_new_features.csv')\n",
    "test_data.to_csv(test_data_path, index=False)\n",
    "\n",
    "print(f\"新しい特徴量を作成しデータを保存しました: {test_data_path}\")"
   ]
  },
  {
   "cell_type": "markdown",
   "id": "7917bdd0-23d2-4ebd-b5b8-0ea8be98e5cf",
   "metadata": {},
   "source": [
    "### 相関関係の高すぎる特徴量を削除する"
   ]
  },
  {
   "cell_type": "code",
   "execution_count": 2,
   "id": "f3b1061c-4168-424c-8a4a-4a2dd58f5f66",
   "metadata": {},
   "outputs": [
    {
     "name": "stdout",
     "output_type": "stream",
     "text": [
      "Age               int64\n",
      "Gender           object\n",
      "T_Bil_log       float64\n",
      "D_Bil_log       float64\n",
      "ALP_log         float64\n",
      "ALT_GPT_log     float64\n",
      "AST_GOT_log     float64\n",
      "AG_ratio_log    float64\n",
      "TP_Alb_ratio    float64\n",
      "dtype: object\n",
      "データが /Users/hayakawakazue/Downloads/signate/LiverDiseaseDetection/test/test_drop_dupe.csv に保存されました。\n"
     ]
    }
   ],
   "source": [
    "import pandas as pd\n",
    "\n",
    "# トレインデータの読み込み\n",
    "data_path = '/Users/hayakawakazue/Downloads/signate/LiverDiseaseDetection/test/test_new_features.csv'\n",
    "test_data = pd.read_csv(data_path, low_memory=False)\n",
    "\n",
    "# '不要な列を削除して他の特徴量を残す\n",
    "test_data = test_data.drop(columns=['TP_log', 'Alb_log'])\n",
    "\n",
    "# 新しいデータセットの保存\n",
    "save_path = '/Users/hayakawakazue/Downloads/signate/LiverDiseaseDetection/test/test_drop_dupe.csv'\n",
    "test_data.to_csv(save_path, index=False)\n",
    "\n",
    "print(test_data.dtypes)\n",
    "print(f\"データが {save_path} に保存されました。\")"
   ]
  },
  {
   "cell_type": "markdown",
   "id": "e793f40b-12f9-4d72-a3e1-a2f6663c7012",
   "metadata": {},
   "source": [
    "## ワンホットエンコーディングを適用する"
   ]
  },
  {
   "cell_type": "code",
   "execution_count": 4,
   "id": "e334dada-8765-4297-b04a-081ec38ee337",
   "metadata": {},
   "outputs": [
    {
     "name": "stdout",
     "output_type": "stream",
     "text": [
      "   Age  T_Bil_log  D_Bil_log   ALP_log  ALT_GPT_log  AST_GOT_log  \\\n",
      "0   25   0.588785   0.171260  5.372723     2.788740     3.020261   \n",
      "1   26   0.606967   0.110133  5.460168     2.443143     2.875445   \n",
      "2   64   0.583238   0.180603  5.380081     2.745879     3.077122   \n",
      "3   65   0.606501   0.161899  5.307778     2.626143     3.049392   \n",
      "4   34   0.524904   0.127076  5.345706     3.057722     3.261808   \n",
      "\n",
      "   AG_ratio_log  TP_Alb_ratio  Gender_Female  Gender_Male  \n",
      "0      0.253095      1.498312            0.0          1.0  \n",
      "1      0.030105      1.688389            1.0          0.0  \n",
      "2      0.245749      1.566148            0.0          1.0  \n",
      "3      0.243001      1.491218            0.0          1.0  \n",
      "4      0.246921      1.511889            1.0          0.0  \n",
      "エンコードされたデータを保存しました: /Users/hayakawakazue/Downloads/signate/LiverDiseaseDetection/test/test_onehot_encoded.csv\n"
     ]
    }
   ],
   "source": [
    "import pandas as pd\n",
    "import numpy as np\n",
    "from sklearn.preprocessing import OneHotEncoder\n",
    "import joblib\n",
    "\n",
    "# testデータの読み込み\n",
    "data_path = '/Users/hayakawakazue/Downloads/signate/LiverDiseaseDetection/test/test_drop_dupe.csv'\n",
    "test_data = pd.read_csv(data_path, low_memory=False)\n",
    "\n",
    "# ワンホットエンコーダをロードする\n",
    "onehot_encoder_path = '/Users/hayakawakazue/Downloads/signate/LiverDiseaseDetection/train/onehot_encoder.pkl'\n",
    "onehot_encoder = joblib.load(onehot_encoder_path)\n",
    "\n",
    "# ワンホットエンコーディングを適用するカテゴリ変数\n",
    "categorical_columns = ['Gender']\n",
    "\n",
    "# カテゴリ変数がテストデータに存在するか確認\n",
    "for column in categorical_columns:\n",
    "    if column not in test_data.columns:\n",
    "        raise ValueError(f\"テストデータに '{column}' 列が存在しません。\")\n",
    "\n",
    "# ワンホットエンコーディングを適用\n",
    "encoded_categorical_data = onehot_encoder.transform(test_data[categorical_columns])\n",
    "\n",
    "# データフレームに変換\n",
    "encoded_categorical_df = pd.DataFrame(encoded_categorical_data, columns=onehot_encoder.get_feature_names_out(categorical_columns))\n",
    "\n",
    "# 元のデータフレームにエンコードしたデータを結合\n",
    "test_data = test_data.drop(columns=categorical_columns)\n",
    "test_data = pd.concat([test_data.reset_index(drop=True), encoded_categorical_df.reset_index(drop=True)], axis=1)\n",
    "\n",
    "# データの確認\n",
    "print(test_data.head())\n",
    "\n",
    "# 新しい特徴量を含むデータを保存\n",
    "test_encoded_path = '/Users/hayakawakazue/Downloads/signate/LiverDiseaseDetection/test/test_onehot_encoded.csv'\n",
    "test_data.to_csv(test_encoded_path, index=False)\n",
    "print(f\"エンコードされたデータを保存しました: {test_encoded_path}\")"
   ]
  },
  {
   "cell_type": "markdown",
   "id": "06732093-d2f7-4aea-bd7d-f3455c343e4b",
   "metadata": {},
   "source": [
    "### 冗長な特徴量(Gender_Female)を削除する"
   ]
  },
  {
   "cell_type": "code",
   "execution_count": 5,
   "id": "d013a939-9410-4965-87ef-28b8bc4dca03",
   "metadata": {},
   "outputs": [
    {
     "name": "stdout",
     "output_type": "stream",
     "text": [
      "Age               int64\n",
      "T_Bil_log       float64\n",
      "D_Bil_log       float64\n",
      "ALP_log         float64\n",
      "ALT_GPT_log     float64\n",
      "AST_GOT_log     float64\n",
      "AG_ratio_log    float64\n",
      "TP_Alb_ratio    float64\n",
      "Gender_Male     float64\n",
      "dtype: object\n",
      "データが /Users/hayakawakazue/Downloads/signate/LiverDiseaseDetection/test/train_drop_GenderFemale.csv に保存されました。\n"
     ]
    }
   ],
   "source": [
    "import pandas as pd\n",
    "\n",
    "# トレインデータの読み込み\n",
    "data_path = '/Users/hayakawakazue/Downloads/signate/LiverDiseaseDetection/test/test_onehot_encoded.csv'\n",
    "test_data = pd.read_csv(data_path, low_memory=False)\n",
    "\n",
    "# '不要な列を削除して他の特徴量を残す\n",
    "test_data = test_data.drop(columns=['Gender_Female'])\n",
    "\n",
    "# 新しいデータセットの保存\n",
    "save_path = '/Users/hayakawakazue/Downloads/signate/LiverDiseaseDetection/test/train_drop_GenderFemale.csv'\n",
    "test_data.to_csv(save_path, index=False)\n",
    "\n",
    "print(test_data.dtypes)\n",
    "print(f\"データが {save_path} に保存されました。\")\n"
   ]
  },
  {
   "cell_type": "markdown",
   "id": "5cbdc405-7b55-4c2e-b439-6105f01c66c6",
   "metadata": {},
   "source": [
    "##  RobustScalerでスケーリングを適用する"
   ]
  },
  {
   "cell_type": "code",
   "execution_count": 7,
   "id": "ac99ea5d-c4d4-4df7-a5ba-d06a2e9fbe7d",
   "metadata": {},
   "outputs": [
    {
     "name": "stdout",
     "output_type": "stream",
     "text": [
      "スケーリング済みのデータを保存しました: /Users/hayakawakazue/Downloads/signate/LiverDiseaseDetection/test/test_scaled_robust_0919_1.csv\n"
     ]
    }
   ],
   "source": [
    "import pandas as pd\n",
    "import numpy as np\n",
    "from sklearn.preprocessing import RobustScaler\n",
    "import joblib\n",
    "\n",
    "# テストデータの読み込み\n",
    "data_path = '/Users/hayakawakazue/Downloads/signate/LiverDiseaseDetection/test/train_drop_GenderFemale.csv'\n",
    "test_data = pd.read_csv(data_path, low_memory=False)\n",
    "\n",
    "# スケーリングを行うカラムを指定（これまでのcolumns_to_scaleを使用）\n",
    "columns_to_scale = [ \n",
    "    'Age', 'T_Bil_log', 'D_Bil_log', 'ALP_log', 'ALT_GPT_log', 'AST_GOT_log', \n",
    "    'AG_ratio_log', 'TP_Alb_ratio'  \n",
    "]\n",
    "\n",
    "# スケーラーをロードしてスケーリング\n",
    "scaler_path = '/Users/hayakawakazue/Downloads/signate/LiverDiseaseDetection/train/train_robust_scaler.pkl'\n",
    "scaler = joblib.load(scaler_path)\n",
    "test_data[columns_to_scale] = scaler.transform(test_data[columns_to_scale])\n",
    "\n",
    "# スケーリング後のデータを保存\n",
    "output_path = '/Users/hayakawakazue/Downloads/signate/LiverDiseaseDetection/test/test_scaled_robust_0919_1.csv'\n",
    "test_data.to_csv(output_path, index=False)\n",
    "print(f\"スケーリング済みのデータを保存しました: {output_path}\")\n"
   ]
  },
  {
   "cell_type": "code",
   "execution_count": 1,
   "id": "6966b2af-35e0-465b-be9b-bf9fcaf0000b",
   "metadata": {},
   "outputs": [
    {
     "name": "stdout",
     "output_type": "stream",
     "text": [
      "PCA適用後のテストデータを保存しました: /Users/hayakawakazue/Downloads/signate/LiverDiseaseDetection/test/test_pca_transformed_data.csv\n"
     ]
    }
   ],
   "source": [
    "import pandas as pd\n",
    "import numpy as np\n",
    "import joblib\n",
    "\n",
    "# 実際のテストデータの読み込み\n",
    "test_data_path = '/Users/hayakawakazue/Downloads/signate/LiverDiseaseDetection/test/test_scaled_robust_0915_1.csv'\n",
    "test_data = pd.read_csv(test_data_path, low_memory=False)\n",
    "\n",
    "# 特徴量を選択\n",
    "selected_features = [\n",
    "    'T_Bil_log', 'AST_GOT_log', 'ALT_GPT_log', 'AG_ratio_log', 'D_Bil_log', \n",
    "    'ALP_log', 'TP_log', 'Alb_log', 'Age', 'Gender_Male'\n",
    "]\n",
    "\n",
    "# PCAモデルをロード\n",
    "pca_path = '/Users/hayakawakazue/Downloads/signate/LiverDiseaseDetection/model/pca_model.joblib'\n",
    "pca = joblib.load(pca_path)\n",
    "\n",
    "# PCAをテストデータに適用\n",
    "test_data_pca = pca.transform(test_data[selected_features])\n",
    "\n",
    "# PCA後のデータをDataFrameに変換\n",
    "test_data_pca_df = pd.DataFrame(test_data_pca, columns=[f'PC{i+1}' for i in range(test_data_pca.shape[1])])\n",
    "\n",
    "# PCA後のデータを保存\n",
    "output_path = '/Users/hayakawakazue/Downloads/signate/LiverDiseaseDetection/test/test_pca_transformed_data.csv'\n",
    "test_data_pca_df.to_csv(output_path, index=False)\n",
    "\n",
    "print(f\"PCA適用後のテストデータを保存しました: {output_path}\")\n",
    "\n"
   ]
  },
  {
   "cell_type": "markdown",
   "id": "1b6e1461-53de-4e6a-9922-b20c1c5b4268",
   "metadata": {},
   "source": [
    "# StandardScalerでスケーリングする"
   ]
  },
  {
   "cell_type": "code",
   "execution_count": 8,
   "id": "e509cc82-3746-4a9c-add0-c5f7a59febaa",
   "metadata": {},
   "outputs": [
    {
     "name": "stdout",
     "output_type": "stream",
     "text": [
      "スケーリング済みのデータを保存しました: /Users/hayakawakazue/Downloads/signate/LiverDiseaseDetection/test/test_std_scaled_0919_1.csv\n"
     ]
    }
   ],
   "source": [
    "# import pandas as pd\n",
    "import numpy as np\n",
    "from sklearn.preprocessing import StandardScaler\n",
    "import joblib\n",
    "\n",
    "# テストデータの読み込み\n",
    "data_path = '/Users/hayakawakazue/Downloads/signate/LiverDiseaseDetection/test/train_drop_GenderFemale.csv'\n",
    "test_data = pd.read_csv(data_path, low_memory=False)\n",
    "\n",
    "# スケーリングを行うカラムを指定\n",
    "columns_to_scale = [ \n",
    "    'Age', 'T_Bil_log', 'D_Bil_log', 'ALP_log', 'ALT_GPT_log', 'AST_GOT_log', \n",
    "    'AG_ratio_log', 'TP_Alb_ratio'  \n",
    "]\n",
    "\n",
    "# 無限大の値や非常に大きな値の処理を各カラムで個別に行う\n",
    "for col in columns_to_scale:\n",
    "    test_data[col] = test_data[col].replace([np.inf, -np.inf], np.nan)\n",
    "\n",
    "# NaN値を平均で補完\n",
    "for col in columns_to_scale:\n",
    "    test_data[col] = test_data[col].fillna(test_data[col].mean())\n",
    "\n",
    "# スケーラーをロードしてスケーリング\n",
    "scaler_path = '/Users/hayakawakazue/Downloads/signate/LiverDiseaseDetection/train/train_std_scaler.pkl'\n",
    "scaler = joblib.load(scaler_path)\n",
    "test_data[columns_to_scale] = scaler.transform(test_data[columns_to_scale])\n",
    "\n",
    "# スケーリング後のデータを保存\n",
    "output_path = '/Users/hayakawakazue/Downloads/signate/LiverDiseaseDetection/test/test_std_scaled_0919_1.csv'\n",
    "test_data.to_csv(output_path, index=False)\n",
    "print(f\"スケーリング済みのデータを保存しました: {output_path}\")\n"
   ]
  },
  {
   "cell_type": "code",
   "execution_count": null,
   "id": "f2b26b7f-4d12-4723-8d2a-cc3fca28f50e",
   "metadata": {},
   "outputs": [],
   "source": []
  }
 ],
 "metadata": {
  "kernelspec": {
   "display_name": "Python 3 (ipykernel)",
   "language": "python",
   "name": "python3"
  },
  "language_info": {
   "codemirror_mode": {
    "name": "ipython",
    "version": 3
   },
   "file_extension": ".py",
   "mimetype": "text/x-python",
   "name": "python",
   "nbconvert_exporter": "python",
   "pygments_lexer": "ipython3",
   "version": "3.12.2"
  }
 },
 "nbformat": 4,
 "nbformat_minor": 5
}
